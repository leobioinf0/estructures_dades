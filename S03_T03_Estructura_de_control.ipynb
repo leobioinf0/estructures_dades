{
  "nbformat": 4,
  "nbformat_minor": 0,
  "metadata": {
    "colab": {
      "name": "S03-T03-Estructura_de_control.ipynb",
      "provenance": [],
      "collapsed_sections": [
        "UnZWN6ADbKLd",
        "NdHdfQOTbMTP",
        "SS5ey-E6bOFB",
        "52KzB70PbQX9",
        "hHARWaftbR6b"
      ],
      "authorship_tag": "ABX9TyPpejyaPr4Sc/ZgFXXE+cCd",
      "include_colab_link": true
    },
    "kernelspec": {
      "name": "python3",
      "display_name": "Python 3"
    },
    "language_info": {
      "name": "python"
    }
  },
  "cells": [
    {
      "cell_type": "markdown",
      "metadata": {
        "id": "view-in-github",
        "colab_type": "text"
      },
      "source": [
        "<a href=\"https://colab.research.google.com/github/leobioinf0/estructures_dades/blob/master/S03_T03_Estructura_de_control.ipynb\" target=\"_parent\"><img src=\"https://colab.research.google.com/assets/colab-badge.svg\" alt=\"Open In Colab\"/></a>"
      ]
    },
    {
      "cell_type": "markdown",
      "metadata": {
        "id": "z2Yy_-fCa4Ei"
      },
      "source": [
        "# Nivell 1\n"
      ]
    },
    {
      "cell_type": "markdown",
      "metadata": {
        "id": "UnZWN6ADbKLd"
      },
      "source": [
        "## Exercici 1\n",
        "L'exercici consisteix a crear un programa que et classifiqui una variable numèrica en funció de l’escala Suspès/Aprovat/Notable/Excel·lent.\n",
        "\n"
      ]
    },
    {
      "cell_type": "code",
      "metadata": {
        "id": "MxI3OczPl7eE"
      },
      "source": [
        "def classify(num_var = False):\n",
        "    \"Classify the numeric value entered by the user or passed as an argument.\"\n",
        "    \n",
        "    while not num_var:\n",
        "        try:\n",
        "            num_var = float(input(\"Enter numerical variable:\"))\n",
        "        except ValueError:\n",
        "            print(\"Not numerical!\")\n",
        "            continue\n",
        "    try:\n",
        "        f_num_var = float(num_var)\n",
        "        print(\"Numerical variable is: \" + str(f_num_var))\n",
        "        if f_num_var < 5:\n",
        "            print(\"Classification is Suspès\")\n",
        "        elif f_num_var >= 5 and f_num_var < 8:\n",
        "            print(\"Classification is Aprovat\")\n",
        "        elif f_num_var >= 8 and f_num_var < 9:\n",
        "            print(\"Classification is Notable\")\n",
        "        else:\n",
        "            print(\"Classification is Excel·lent\")\n",
        "    except ValueError:\n",
        "        print(\"Not numerical!\")\n",
        "        pass\n"
      ],
      "execution_count": 21,
      "outputs": []
    },
    {
      "cell_type": "code",
      "metadata": {
        "colab": {
          "base_uri": "https://localhost:8080/"
        },
        "id": "inNiB5jEmssO",
        "outputId": "20944ad7-bdad-475f-b45c-8651e99ab64c"
      },
      "source": [
        "classify(1)\n",
        "classify(\"1\")\n",
        "classify(\"X\")"
      ],
      "execution_count": 22,
      "outputs": [
        {
          "output_type": "stream",
          "text": [
            "Numerical variable is: 1.0\n",
            "Classification is Suspès\n",
            "Numerical variable is: 1.0\n",
            "Classification is Suspès\n",
            "Not numerical!\n"
          ],
          "name": "stdout"
        }
      ]
    },
    {
      "cell_type": "code",
      "metadata": {
        "colab": {
          "base_uri": "https://localhost:8080/"
        },
        "id": "Ky7m7RXGr_uz",
        "outputId": "d5e30ec0-3896-4cf8-b76b-65b7ef058fc0"
      },
      "source": [
        "2classify()"
      ],
      "execution_count": 11,
      "outputs": [
        {
          "output_type": "stream",
          "text": [
            "Enter numerical variable:1\n",
            "Numerical variable is: 1.0\n",
            "Classification is Suspès\n"
          ],
          "name": "stdout"
        }
      ]
    },
    {
      "cell_type": "code",
      "metadata": {
        "colab": {
          "base_uri": "https://localhost:8080/"
        },
        "id": "Kf8JcdLtsDoj",
        "outputId": "3b77ceb4-07f5-4dd8-e149-eefe4038630d"
      },
      "source": [
        "classify()"
      ],
      "execution_count": 12,
      "outputs": [
        {
          "output_type": "stream",
          "text": [
            "Enter numerical variable:\"1\"\n",
            "Not numerical!\n",
            "Enter numerical variable:'1'\n",
            "Not numerical!\n",
            "Enter numerical variable:x\n",
            "Not numerical!\n",
            "Enter numerical variable:4\n",
            "Numerical variable is: 4.0\n",
            "Classification is Suspès\n"
          ],
          "name": "stdout"
        }
      ]
    },
    {
      "cell_type": "markdown",
      "metadata": {
        "id": "NdHdfQOTbMTP"
      },
      "source": [
        "## Exercici 2\n",
        "Utilitzant el següent tutorial Programiz: Python Input, Output and Import crea un programa que et pregunti dos números. T’ha de mostrar un missatge dient si el primer és més gran, el segon és més gran o són iguals.\n",
        "\n"
      ]
    },
    {
      "cell_type": "code",
      "metadata": {
        "id": "giUgdL7_c4n0"
      },
      "source": [
        "def larger_than():\n",
        "    \"Compare two user-entered numbers.\"\n",
        "    \n",
        "    first_num_var = False\n",
        "    second_num_var = False\n",
        "    while not first_num_var:\n",
        "        try:\n",
        "            first_num_var = float(input(\"Enter first number:\").replace('\"','').replace('\\'',''))\n",
        "        except ValueError:\n",
        "            print(\"Not numerical!\")\n",
        "            continue\n",
        "    while not second_num_var:\n",
        "        try:\n",
        "            second_num_var = float(input(\"Enter second number:\").replace('\"','').replace('\\'',''))\n",
        "        except ValueError:\n",
        "            print(\"Not numerical!\")\n",
        "            continue\n",
        "            \n",
        "    if first_num_var > second_num_var:\n",
        "        print(\"The first number is larger.\\n\")\n",
        "    elif first_num_var < second_num_var:\n",
        "        print(\"The second number is larger.\\n\")\n",
        "    else:\n",
        "        print(\"The numbers are equal.\\n\")\n"
      ],
      "execution_count": 13,
      "outputs": []
    },
    {
      "cell_type": "code",
      "metadata": {
        "colab": {
          "base_uri": "https://localhost:8080/"
        },
        "id": "hdTtEVelnF2g",
        "outputId": "e26e9584-c409-489f-884e-16065ab52c29"
      },
      "source": [
        "2#compare 1 with 2\n",
        "larger_than()\n",
        "\n",
        "#compare 1 with 1\n",
        "larger_than()\n",
        "\n",
        "#compare 2 with 1\n",
        "larger_than()\n",
        "\n",
        "#compare \"1\" with '2'\n",
        "larger_than()"
      ],
      "execution_count": 14,
      "outputs": [
        {
          "output_type": "stream",
          "text": [
            "Enter first number:1\n",
            "Enter second number:\n",
            "Not numerical!\n",
            "Enter second number:1\n",
            "The numbers are equal.\n",
            "\n",
            "Enter first number:1\n",
            "Enter second number:\n",
            "Not numerical!\n",
            "Enter second number:2\n",
            "The second number is larger.\n",
            "\n",
            "Enter first number:1\n",
            "Enter second number:\"1\"\n",
            "The numbers are equal.\n",
            "\n",
            "Enter first number:'2'\n",
            "Enter second number:\"2\"\n",
            "The numbers are equal.\n",
            "\n"
          ],
          "name": "stdout"
        }
      ]
    },
    {
      "cell_type": "markdown",
      "metadata": {
        "id": "SS5ey-E6bOFB"
      },
      "source": [
        "## Exercici 3\n",
        "Crea un programa que et pregunti el teu nom, i et demani un número. Si el número és 0, hauria de mostrar un missatge d’error. En cas contrari, hauria de mostrar el nom repetit tants cops com indiqui el número. Per exemple, “Joan Joan Joan”.\n",
        "\n"
      ]
    },
    {
      "cell_type": "code",
      "metadata": {
        "id": "Pp-u5MNNoke1"
      },
      "source": [
        "def name_repeater():\n",
        "    \"\"\"\n",
        "    Request a name and a number and print the name as many times \n",
        "    the requested number.\n",
        "    \"\"\"\n",
        "    \n",
        "    name = False\n",
        "    number = False\n",
        "    while not name:\n",
        "        name = input(\"Enter name:\")\n",
        "    while not number:\n",
        "        try:\n",
        "            number = int(input(\"Enter number:\").replace('\"','').replace('\\'',''))\n",
        "        except ValueError:\n",
        "            print(\"Not numerical!\")\n",
        "            continue\n",
        "    name = name + \" \"    \n",
        "    print(name * number)"
      ],
      "execution_count": 15,
      "outputs": []
    },
    {
      "cell_type": "code",
      "metadata": {
        "id": "t2iRJ6F-tEXt",
        "colab": {
          "base_uri": "https://localhost:8080/"
        },
        "outputId": "3f49cb39-3f56-4e08-e936-2ff093694499"
      },
      "source": [
        "name_repeater()"
      ],
      "execution_count": 16,
      "outputs": [
        {
          "output_type": "stream",
          "text": [
            "Enter name:Leo\n",
            "Enter number:4\n",
            "Leo Leo Leo Leo \n"
          ],
          "name": "stdout"
        }
      ]
    },
    {
      "cell_type": "markdown",
      "metadata": {
        "id": "52KzB70PbQX9"
      },
      "source": [
        "## Exercici 4\n",
        "Crea un programa que donada una llista qualsevol, et digui si es simètrica o no. Si ho és, que et digui quants elements té.\n",
        "\n"
      ]
    },
    {
      "cell_type": "code",
      "metadata": {
        "id": "iBhXbDwo4vkP"
      },
      "source": [
        "def symmetry(l):\n",
        "    \"\"\"\n",
        "    Function to check whether the list is symmetrical or not  \n",
        "    \"\"\"\n",
        "    #Length of the list\n",
        "    n = len(l)  \n",
        "    #Floor Division of list length\n",
        "    mid = n//2\n",
        "    #First half of the list\n",
        "    l1=l[:mid]\n",
        "\n",
        "    #The second half of the list depends on whether \n",
        "    #the total length of the list is odd or even.\n",
        "    if not n%2: \n",
        "        l2=l[mid:]\n",
        "    else:\n",
        "        l2=l[mid+1:]\n",
        "\n",
        "    #Compare the first half of the list with the \n",
        "    #reverse of the second half of the list\n",
        "    if l1 == l2[::-1]:\n",
        "        print(\"The list is symmetric and contains {} elements\\n\".format(n))\n",
        "    else:\n",
        "        print(\"List is not symmetrical\\n\")"
      ],
      "execution_count": 17,
      "outputs": []
    },
    {
      "cell_type": "code",
      "metadata": {
        "colab": {
          "base_uri": "https://localhost:8080/"
        },
        "id": "ZQQLR4h7BKmH",
        "outputId": "29f9ee62-0c4e-4a93-efe7-5de75c93c0eb"
      },
      "source": [
        "#Symmetric list of even elements\n",
        "symm_even=[\"uno\",\"dos\",\"tres\",\"tres\",\"dos\",\"uno\"]\n",
        "symmetry(symm_even)\n",
        "\n",
        "#Symmetric list of odd elements\n",
        "symm_odd=[\"uno\",\"dos\",\"tres\",\"dos\",\"uno\"]\n",
        "symmetry(symm_odd)\n",
        "\n",
        "#Asymmetric list of even elements\n",
        "asymm_even=[\"UNO\",\"dos\",\"tres\",\"tres\",\"dos\",\"uno\"]\n",
        "symmetry(asymm_even)\n",
        "\n",
        "#Asymmetric list of odd elements\n",
        "asymm_odd=[\"UNO\",\"dos\",\"tres\",\"dos\",\"uno\"]\n",
        "symmetry(asymm_odd)"
      ],
      "execution_count": 18,
      "outputs": [
        {
          "output_type": "stream",
          "text": [
            "The list is symmetric and contains 6 elements\n",
            "\n",
            "The list is symmetric and contains 5 elements\n",
            "\n",
            "List is not symmetrical\n",
            "\n",
            "List is not symmetrical\n",
            "\n"
          ],
          "name": "stdout"
        }
      ]
    },
    {
      "cell_type": "code",
      "metadata": {
        "colab": {
          "base_uri": "https://localhost:8080/"
        },
        "id": "kgA64LxoFOc_",
        "outputId": "c8caacf0-5ff8-43f2-bb11-fc4876137066"
      },
      "source": [
        "symmetry([1,2,3,3,2,1])"
      ],
      "execution_count": 19,
      "outputs": [
        {
          "output_type": "stream",
          "text": [
            "The list is symmetric and contains 6 elements\n",
            "\n"
          ],
          "name": "stdout"
        }
      ]
    },
    {
      "cell_type": "markdown",
      "metadata": {
        "id": "hHARWaftbR6b"
      },
      "source": [
        "## Exercici 5\n",
        "Crea un programa que donada una llista, et digui quants números coincideixen amb la seva posició. Per exemple [3,4,2,0,2,3,6] el 2 i el 6 coincideixen."
      ]
    },
    {
      "cell_type": "code",
      "metadata": {
        "colab": {
          "base_uri": "https://localhost:8080/"
        },
        "id": "N3q85b83j2Lh",
        "outputId": "6f1f93bf-2487-449f-e1a0-e21206196f63"
      },
      "source": [
        "[3,4,2,0,2,3,6]\n",
        "def match_pos(lst):\n",
        "    \"\"\"\n",
        "    Take a list and say the numbers that match its position.\n",
        "    \"\"\"\n",
        "    for i in range(len(lst)):\n",
        "        if i == lst[i]:\n",
        "            print(\"{} matches position {}\".format(lst[i], i) )\n",
        "\n",
        "match_pos([3,4,2,0,2,3,6])"
      ],
      "execution_count": 20,
      "outputs": [
        {
          "output_type": "stream",
          "text": [
            "2 matches position 2\n",
            "6 matches position 6\n"
          ],
          "name": "stdout"
        }
      ]
    }
  ]
}