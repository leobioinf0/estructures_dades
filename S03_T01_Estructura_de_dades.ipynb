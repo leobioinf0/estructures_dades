{
 "cells": [
  {
   "cell_type": "markdown",
   "metadata": {
    "id": "xLANZB5CpL82"
   },
   "source": [
    "# Exercici 1\n",
    "\n",
    "Crea una llista que agrupi els mesos de l’any en trimestres `(1T: Gener, Febrer i Març, 2T: Abril, Maig, Juny...)`, és a dir, una llista amb 4 llistes dins."
   ]
  },
  {
   "cell_type": "code",
   "execution_count": 1,
   "metadata": {
    "colab": {
     "base_uri": "https://localhost:8080/"
    },
    "id": "jXpfEgpWoPtV",
    "outputId": "7c091ee3-1c69-4e71-a656-2580d67ce307"
   },
   "outputs": [
    {
     "data": {
      "text/plain": [
       "[['Gener', 'Febrer', 'Març'],\n",
       " ['Abril', 'Maig', 'Juny'],\n",
       " ['Juliol', 'Agost', 'Setembre'],\n",
       " ['Octubre', 'Novembre', 'Desembre']]"
      ]
     },
     "execution_count": 1,
     "metadata": {},
     "output_type": "execute_result"
    }
   ],
   "source": [
    "lol = [[\"Gener\", \"Febrer\", \"Març\"], [\"Abril\", \"Maig\", \"Juny\"], [\"Juliol\", \"Agost\", \"Setembre\"], [\"Octubre\", \"Novembre\", \"Desembre\"]]\n",
    "lol"
   ]
  },
  {
   "cell_type": "markdown",
   "metadata": {
    "id": "7swKKeTLpOmq"
   },
   "source": [
    "# Exercici 2\n",
    "\n",
    "Crea un codi que et permeti accedir a:\n",
    "\n",
    "- El segon mes del primer trimestre\n",
    "- Els mesos del primer trimestre\n",
    "- Setembre i octubre\n"
   ]
  },
  {
   "cell_type": "code",
   "execution_count": 2,
   "metadata": {
    "colab": {
     "base_uri": "https://localhost:8080/",
     "height": 35
    },
    "id": "w0p0VCMQpUMD",
    "outputId": "56f047e0-2203-4309-cc59-6c583d34eacf"
   },
   "outputs": [
    {
     "data": {
      "text/plain": [
       "'Febrer'"
      ]
     },
     "execution_count": 2,
     "metadata": {},
     "output_type": "execute_result"
    }
   ],
   "source": [
    "# El segon mes del primer trimestre\n",
    "lol[0][1]"
   ]
  },
  {
   "cell_type": "code",
   "execution_count": 3,
   "metadata": {
    "colab": {
     "base_uri": "https://localhost:8080/"
    },
    "id": "dwX-RkWIu1j8",
    "outputId": "ca48b1a2-bc8f-4d0f-f47f-0e51c808bf56"
   },
   "outputs": [
    {
     "data": {
      "text/plain": [
       "['Gener', 'Febrer', 'Març']"
      ]
     },
     "execution_count": 3,
     "metadata": {},
     "output_type": "execute_result"
    }
   ],
   "source": [
    "# Els mesos del primer trimestre\n",
    "lol[0]"
   ]
  },
  {
   "cell_type": "code",
   "execution_count": 4,
   "metadata": {
    "colab": {
     "base_uri": "https://localhost:8080/"
    },
    "id": "_FmfTCRXu9k7",
    "outputId": "b85d282d-b013-4faa-f128-d370de63098b"
   },
   "outputs": [
    {
     "data": {
      "text/plain": [
       "['Setembre', 'Octubre']"
      ]
     },
     "execution_count": 4,
     "metadata": {},
     "output_type": "execute_result"
    }
   ],
   "source": [
    "# Setembre i octubre\n",
    "[lol[2][2], lol[3][0]]"
   ]
  },
  {
   "cell_type": "markdown",
   "metadata": {
    "id": "niREzZEspTX_"
   },
   "source": [
    "# Exercici 3\n",
    "\n",
    "Crea una llista amb nombres desordenats i respon a les següents preguntes:\n",
    "\n",
    "- Quants números hi ha?\n",
    "- Quantes vegades apareix el número 3\n",
    "- Quantes vegades apareixen els nombres 3 i 4?\n",
    "- Quin és el número més gran?\n",
    "- Quins són els 3 números més petits?\n",
    "- Quin és el rang d’aquesta llista?\n"
   ]
  },
  {
   "cell_type": "code",
   "execution_count": 5,
   "metadata": {
    "colab": {
     "base_uri": "https://localhost:8080/"
    },
    "id": "K2JweocopV49",
    "outputId": "f53623da-b3b2-4a71-dddd-ffb4c5182ee7"
   },
   "outputs": [
    {
     "name": "stdout",
     "output_type": "stream",
     "text": [
      "[0, 9, 4, 1, 8, 2, 5, 0, 1, 2, 6, 6, 6, 9, 8, 0, 9, 3, 8, 2]\n"
     ]
    }
   ],
   "source": [
    "import random\n",
    "randomlist = []\n",
    "for i in range(0,20):\n",
    "    n = random.randint(0,9)\n",
    "    randomlist.append(n)\n",
    "print(randomlist)"
   ]
  },
  {
   "cell_type": "code",
   "execution_count": 6,
   "metadata": {
    "colab": {
     "base_uri": "https://localhost:8080/"
    },
    "id": "ZKZ6lkgBFsbH",
    "outputId": "e76abb4f-e10c-4bf7-e513-b1b685ac704b"
   },
   "outputs": [
    {
     "data": {
      "text/plain": [
       "20"
      ]
     },
     "execution_count": 6,
     "metadata": {},
     "output_type": "execute_result"
    }
   ],
   "source": [
    "# Quants números hi ha?\n",
    "len(randomlist)"
   ]
  },
  {
   "cell_type": "code",
   "execution_count": 7,
   "metadata": {
    "colab": {
     "base_uri": "https://localhost:8080/"
    },
    "id": "upU-3WMZwPPa",
    "outputId": "884525c8-832e-42f4-ef23-4c89ffb27c5b"
   },
   "outputs": [
    {
     "data": {
      "text/plain": [
       "1"
      ]
     },
     "execution_count": 7,
     "metadata": {},
     "output_type": "execute_result"
    }
   ],
   "source": [
    "# Quantes vegades apareix el número 3\n",
    "randomlist.count(3) "
   ]
  },
  {
   "cell_type": "code",
   "execution_count": 8,
   "metadata": {
    "colab": {
     "base_uri": "https://localhost:8080/"
    },
    "id": "QAobuypBGDgt",
    "outputId": "be2ffdc7-3c86-4e42-a819-9e8df527661b"
   },
   "outputs": [
    {
     "data": {
      "text/plain": [
       "2"
      ]
     },
     "execution_count": 8,
     "metadata": {},
     "output_type": "execute_result"
    }
   ],
   "source": [
    "# Quantes vegades apareixen els nombres 3 i 4?\n",
    "randomlist.count(3) + randomlist.count(4)"
   ]
  },
  {
   "cell_type": "code",
   "execution_count": 9,
   "metadata": {
    "colab": {
     "base_uri": "https://localhost:8080/"
    },
    "id": "zdzCRTSwI0j7",
    "outputId": "7c2590ba-a6d7-46ed-de61-3300e6fd97de"
   },
   "outputs": [
    {
     "data": {
      "text/plain": [
       "9"
      ]
     },
     "execution_count": 9,
     "metadata": {},
     "output_type": "execute_result"
    }
   ],
   "source": [
    "# Quin és el número més gran?\n",
    "randomlist.sort(reverse=True)\n",
    "randomlist[0]"
   ]
  },
  {
   "cell_type": "code",
   "execution_count": 10,
   "metadata": {
    "colab": {
     "base_uri": "https://localhost:8080/"
    },
    "id": "yClvhwGGJY8N",
    "outputId": "919d4612-c6c9-4a67-9239-71aa23494580"
   },
   "outputs": [
    {
     "data": {
      "text/plain": [
       "[0, 1, 2]"
      ]
     },
     "execution_count": 10,
     "metadata": {},
     "output_type": "execute_result"
    }
   ],
   "source": [
    "# Quins són els 3 números més petits?\n",
    "randomlist.sort(reverse=False)\n",
    "randomset = set(randomlist)\n",
    "list(randomset)[:3]"
   ]
  },
  {
   "cell_type": "code",
   "execution_count": 11,
   "metadata": {
    "colab": {
     "base_uri": "https://localhost:8080/"
    },
    "id": "uK_v2VT1MY0i",
    "outputId": "58e194e9-b62e-4896-85d0-f8b7f8501bf7"
   },
   "outputs": [
    {
     "data": {
      "text/plain": [
       "9"
      ]
     },
     "execution_count": 11,
     "metadata": {},
     "output_type": "execute_result"
    }
   ],
   "source": [
    "# Quin és el rang d’aquesta llista?\n",
    "max(randomlist) - min(randomlist)"
   ]
  },
  {
   "cell_type": "markdown",
   "metadata": {
    "id": "dBXRj51ipYrH"
   },
   "source": [
    "# Exercici 4\n",
    "\n",
    "Crea un diccionari de la següent forma i respon a les preguntes:\n",
    "\n",
    "`compra = { \"Pomes\" : {\"Qty\": 5, \"€\": 0.42}, \"Peres\" : {\"Qty\": 3, \"€\": 0.66} }`\n",
    "\n",
    "- Afegeix alguna fruita més\n",
    "- Quant han costat les peres en total?\n",
    "- Quantes fruites hem comprat en total?\n",
    "- Quina és la fruita més cara?\n"
   ]
  },
  {
   "cell_type": "code",
   "execution_count": 12,
   "metadata": {
    "colab": {
     "base_uri": "https://localhost:8080/"
    },
    "id": "jYl_WMw4Mokh",
    "outputId": "d5cbdd47-90c8-4aff-fb2a-7f2da4a5fca8"
   },
   "outputs": [
    {
     "data": {
      "text/plain": [
       "{'Pomes': {'Qty': 5, '€': 0.42}, 'Peres': {'Qty': 3, '€': 0.66}}"
      ]
     },
     "execution_count": 12,
     "metadata": {},
     "output_type": "execute_result"
    }
   ],
   "source": [
    "compra = {\"Pomes\" : {\"Qty\": 5,\n",
    "                     \"€\": 0.42}, \n",
    "          \"Peres\" : {\"Qty\": 3, \n",
    "                     \"€\": 0.66} \n",
    "          }\n",
    "compra"
   ]
  },
  {
   "cell_type": "code",
   "execution_count": 13,
   "metadata": {
    "colab": {
     "base_uri": "https://localhost:8080/"
    },
    "id": "32QG_XmDNEBn",
    "outputId": "3fff03cf-204c-47ae-a7b6-4f1eb1c50e87"
   },
   "outputs": [
    {
     "data": {
      "text/plain": [
       "{'Pomes': {'Qty': 5, '€': 0.42},\n",
       " 'Peres': {'Qty': 3, '€': 0.66},\n",
       " 'Maduixa': {'Qty': 2, '€': 1.42}}"
      ]
     },
     "execution_count": 13,
     "metadata": {},
     "output_type": "execute_result"
    }
   ],
   "source": [
    "# Afegeix alguna fruita més\n",
    "compra.update({\"Maduixa\" : {\"Qty\": 2, \"€\": 1.42}})\n",
    "compra"
   ]
  },
  {
   "cell_type": "code",
   "execution_count": 14,
   "metadata": {
    "colab": {
     "base_uri": "https://localhost:8080/"
    },
    "id": "SH7C740jO5DS",
    "outputId": "abcc9e66-5d2e-4ded-e6a9-63285137b0dd"
   },
   "outputs": [
    {
     "data": {
      "text/plain": [
       "1.98"
      ]
     },
     "execution_count": 14,
     "metadata": {},
     "output_type": "execute_result"
    }
   ],
   "source": [
    "# Quant han costat les peres en total?\n",
    "compra[\"Peres\"][\"Qty\"]*compra[\"Peres\"][\"€\"]"
   ]
  },
  {
   "cell_type": "code",
   "execution_count": 15,
   "metadata": {
    "colab": {
     "base_uri": "https://localhost:8080/"
    },
    "id": "avsbj8ESPI3K",
    "outputId": "e9b67999-95df-4102-9809-56dff7a1b92c"
   },
   "outputs": [
    {
     "data": {
      "text/plain": [
       "10"
      ]
     },
     "execution_count": 15,
     "metadata": {},
     "output_type": "execute_result"
    }
   ],
   "source": [
    "# Quantes fruites hem comprat en total?\n",
    "sum(d['Qty'] for d in compra.values())"
   ]
  },
  {
   "cell_type": "code",
   "execution_count": 16,
   "metadata": {
    "colab": {
     "base_uri": "https://localhost:8080/"
    },
    "id": "KTng7UJfQjAP",
    "outputId": "20964c06-14d7-4310-8318-c30bed6a01fd"
   },
   "outputs": [
    {
     "name": "stdout",
     "output_type": "stream",
     "text": [
      "Maduixa\n"
     ]
    }
   ],
   "source": [
    "# Quina és la fruita més cara?\n",
    "for k in compra.keys(): # para cada fruta\n",
    "    if compra[k]['€'] == max(d['€'] for d in compra.values()): # si \"€\" es igual al mayor de los \"€\"\n",
    "        print(k)"
   ]
  },
  {
   "cell_type": "code",
   "execution_count": null,
   "metadata": {},
   "outputs": [],
   "source": []
  }
 ],
 "metadata": {
  "colab": {
   "collapsed_sections": [],
   "name": "S03_T01_Estructura_de_dades.ipynb",
   "provenance": []
  },
  "kernelspec": {
   "display_name": "Python 3",
   "language": "python",
   "name": "python3"
  },
  "language_info": {
   "codemirror_mode": {
    "name": "ipython",
    "version": 3
   },
   "file_extension": ".py",
   "mimetype": "text/x-python",
   "name": "python",
   "nbconvert_exporter": "python",
   "pygments_lexer": "ipython3",
   "version": "3.8.8"
  }
 },
 "nbformat": 4,
 "nbformat_minor": 1
}
